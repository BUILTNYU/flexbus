{
 "cells": [
  {
   "cell_type": "code",
   "execution_count": 3,
   "metadata": {
    "collapsed": true
   },
   "outputs": [],
   "source": [
    "from collections import defaultdict\n",
    "\n",
    "import matplotlib\n",
    "import matplotlib.pyplot as plt\n",
    "%matplotlib inline\n",
    "import networkx as nx\n",
    "nx.__version__\n",
    "\n",
    "import numpy as np\n",
    "from numpy import array\n",
    "import tabulate"
   ]
  },
  {
   "cell_type": "code",
   "execution_count": 4,
   "metadata": {},
   "outputs": [
    {
     "name": "stdout",
     "output_type": "stream",
     "text": [
      "parameter       value\n",
      "--------------  ---------------------\n",
      "total time      30 minutes\n",
      "clock interval  1 minute(s)\n",
      "# vehicles      5\n",
      "headway         6.0 minutes / vehicle\n",
      "walking speed   0.004 units / minute\n",
      "driving speed   0.02 units / minute\n"
     ]
    }
   ],
   "source": [
    "# TO SET\n",
    "H = 30 # total simulation time, minutes\n",
    "delta = 1 # clock interval\n",
    "n_V = 5 # number of vehicles\n",
    "drive_v = .02 # driving speed (leave the decimal at end)\n",
    "walk_v = drive_v / 5. # walking speed (leave the decimal at end)\n",
    "\n",
    "# TO DERIVE -- DO NOT TOUCH\n",
    "h = 0 # current interval, starts at t=0\n",
    "headway = H / float(n_V)\n",
    "\n",
    "print tabulate.tabulate([(\"total time\", \"{} minutes\".format(H)),\n",
    "                         (\"clock interval\", \"{} minute(s)\".format(delta)),\n",
    "                         (\"# vehicles\", n_V),\n",
    "                         (\"headway\", \"{} minutes / vehicle\".format(headway)),\n",
    "                         (\"walking speed\", \"{} units / minute\".format(walk_v)),\n",
    "                         (\"driving speed\", \"{} units / minute\".format(drive_v))], headers=(\"parameter\", \"value\"))"
   ]
  },
  {
   "cell_type": "code",
   "execution_count": 7,
   "metadata": {
    "collapsed": true
   },
   "outputs": [],
   "source": [
    "nodes = {\"a\": {\"demand\": 1, # this is a lambda parameter for a poisson for demands\n",
    "               \"pos\": array([.2, .25])}, #[x,y] ranges between 0,1, for visualization purposes\n",
    "         \"b\": {\"demand\": 1,\n",
    "               \"pos\": array([.3, .25])},\n",
    "         \"c\": { \"demand\": 1,\n",
    "                \"pos\": array([.4, .25])},\n",
    "         \"d1\": {\"pos\": array([.5, .2])},\n",
    "         \"d2\": {\"pos\": array([.5, .25])},\n",
    "         \"d3\": {\"pos\": array([.5, .3])},\n",
    "         \"e1\": {\"pos\": array([.6, .2])},\n",
    "         \"e2\": {\"pos\": array([.6, .25])},\n",
    "         \"e3\": {\"pos\": array([.6, .3])},\n",
    "         \"f\": {\"pos\": array([.7, .25])},\n",
    "         \"g\": {\"pos\": array([.8, .25])},\n",
    "         \"h\": {\"pos\": array([.9, .25])},\n",
    "        }\n",
    "\n",
    "demand_nodes = np.array([(k, n[\"demand\"]) for k,n in nodes.iteritems() if \"demand\" in n])\n",
    "\n",
    "# transition probability matrix -- uniform rn\n",
    "transitions = {\"a\": {\"d1\": .11,\n",
    "                     \"d2\": .11,\n",
    "                     \"d3\": .11,\n",
    "                     \"e1\": .11,\n",
    "                     \"e2\": .11,\n",
    "                     \"e3\": .11,\n",
    "                     \"f\": .11,\n",
    "                     \"g\": .11,\n",
    "                     \"h\": .12},\n",
    "               \"b\": {\"d1\": .11,\n",
    "                     \"d2\": .11,\n",
    "                     \"d3\": .11,\n",
    "                     \"e1\": .11,\n",
    "                     \"e2\": .11,\n",
    "                     \"e3\": .11,\n",
    "                     \"f\": .11,\n",
    "                     \"g\": .11,\n",
    "                     \"h\": .12},\n",
    "               \"c\": {\"d1\": .11,\n",
    "                     \"d2\": .11,\n",
    "                     \"d3\": .11,\n",
    "                     \"e1\": .11,\n",
    "                     \"e2\": .11,\n",
    "                     \"e3\": .11,\n",
    "                     \"f\": .11,\n",
    "                     \"g\": .11,\n",
    "                     \"h\": .12}}\n",
    "d_probs_by_origin = defaultdict(list)\n",
    "d_names_by_origin = defaultdict(list)\n",
    "for origin, probs in transitions.iteritems():\n",
    "    for name, prob in probs.iteritems():\n",
    "        d_probs_by_origin[origin].append(prob)\n",
    "        d_names_by_origin[origin].append(name)\n",
    "\n",
    "edges = {(\"a\", \"b\"): {\"weight\": 2},\n",
    "         (\"b\", \"c\"): {\"weight\": 2}, \n",
    "         (\"c\", \"d1\"): {\"weight\": 2},\n",
    "         (\"c\", \"d2\"): {\"weight\": 2},\n",
    "         (\"c\", \"d3\"): {\"weight\": 2},\n",
    "         (\"d1\", \"e1\"): {\"weight\": 2},\n",
    "         (\"d2\", \"e2\"): {\"weight\": 2},\n",
    "         (\"d3\", \"e3\"): {\"weight\": 2},\n",
    "         (\"e1\", \"f\"): {\"weight\": 2},\n",
    "         (\"e2\", \"f\"): {\"weight\": 2},\n",
    "         (\"e3\", \"f\"): {\"weight\": 2},\n",
    "         (\"f\", \"g\"): {\"weight\": 2},\n",
    "         (\"g\", \"h\"): {\"weight\": 2},}\n",
    "\n",
    "def euclidean_distance(edge):\n",
    "    return np.sqrt(np.sum((nodes[edge[1]][\"pos\"] - nodes[edge[0]][\"pos\"]) ** 2))\n",
    "\n",
    "network = nx.DiGraph()    \n",
    "for edge, _ in edges.iteritems():\n",
    "    weight = {\"dist\": euclidean_distance(edge)}\n",
    "    weight[\"weight\"] = weight[\"dist\"] / drive_v\n",
    "    network.add_edge(edge[0], edge[1], **weight)\n",
    "ordered_edges = list(nx.lexicographical_topological_sort(network))"
   ]
  },
  {
   "cell_type": "code",
   "execution_count": 8,
   "metadata": {},
   "outputs": [
    {
     "data": {
      "image/png": "[encoded data removed]",
      "text/plain": [
       "<Figure size 1152x648 with 1 Axes>"
      ]
     },
     "metadata": {},
     "output_type": "display_data"
    }
   ],
   "source": [
    "# construct pos dict for drawing\n",
    "pos = {k: v[\"pos\"] for k, v in nodes.iteritems()}\n",
    "\n",
    "fig, ax = plt.subplots(figsize=(16, 9))\n",
    "nx.draw(network, pos=pos, with_labels=True, ax = ax)\n",
    "labels = {k: \"{0:.2f}\".format(v) for k, v in nx.get_edge_attributes(network,'weight').iteritems()}\n",
    "_ = nx.draw_networkx_edge_labels(network,pos,edge_labels=labels, ax = ax)"
   ]
  },
  {
   "cell_type": "code",
   "execution_count": 13,
   "metadata": {
    "collapsed": true
   },
   "outputs": [],
   "source": [
    "# define simulation functions\n",
    "\n",
    "def get_origins(demand_nodes):\n",
    "    return np.random.poisson([d[1] for d in demand_nodes])\n",
    "                              \n",
    "def get_destinations(demand_nodes, origin_requests):\n",
    "    o_d_pairs = []\n",
    "    for (origin, _), n_passengers in zip(demand_nodes, origin_requests):\n",
    "        dests = np.random.choice(d_names_by_origin[origin], size=n_passengers, p=d_probs_by_origin[origin])\n",
    "        for dest in dests:\n",
    "            o_d_pairs.append((origin, dest))\n",
    "    return o_d_pairs\n",
    "\n",
    "\n",
    "# see below for what state matrix looks like\n",
    "def init_vehicle_state():\n",
    "    FIRST_STOP = ordered_edges[0]\n",
    "    NEXT_STOP = ordered_edges[1]\n",
    "    return {\"status\": \"at_stop\",\n",
    "     \"current_stop\": FIRST_STOP,\n",
    "     \"next_stop\": NEXT_STOP,\n",
    "     \"et\": network[FIRST_STOP][NEXT_STOP][\"weight\"],\n",
    "     \"passengers\": set()}"
   ]
  },
  {
   "cell_type": "code",
   "execution_count": 10,
   "metadata": {
    "collapsed": true
   },
   "outputs": [],
   "source": [
    "from pulp import LpProblem, LpMaximize"
   ]
  },
  {
   "cell_type": "code",
   "execution_count": 11,
   "metadata": {
    "collapsed": true
   },
   "outputs": [],
   "source": [
    "# TODO: hack, fix the hardcoded paths\n",
    "def solve_lp(vehicle_states, unserved_demand):\n",
    "    PATHS = np.arange(3)\n",
    "    "
   ]
  },
  {
   "cell_type": "code",
   "execution_count": 17,
   "metadata": {},
   "outputs": [
    {
     "name": "stdout",
     "output_type": "stream",
     "text": [
      "h is 0\n",
      "demands: set([('a', 'h'), ('c', 'e3'), ('c', 'd2')])\n",
      "next vehicle is 0\n",
      "A_V is set([0])\n",
      "I_V is set([1, 2, 3, 4])\n"
     ]
    }
   ],
   "source": [
    "# actual simulation\n",
    "\n",
    "np.random.seed(42) # seed rng\n",
    "\n",
    "V = set(range(n_V)) # all vehicles\n",
    "A_V = set([]) # active vehicles\n",
    "I_V = V.copy() # inactive vehicles\n",
    "h = 0\n",
    "\n",
    "\"\"\"\n",
    "example state matrix:\n",
    "{1: {\"status\": \"driving\",\n",
    "     \"current_stop\": \"a\",\n",
    "     \"next_stop\": \"b\",\n",
    "     \"et\": 10}}\n",
    "\"\"\"\n",
    "vehicle_states = {}\n",
    "unserved_demand = set()\n",
    "\n",
    "while h < H:\n",
    "    print \"h is {}\".format(h)\n",
    "    \n",
    "    # figuring out new requests\n",
    "    o_d_pairs = get_destinations(demand_nodes, get_origins(demand_nodes))\n",
    "    unserved_demand = unserved_demand.union(set(o_d_pairs))\n",
    "    print \"demands: {}\".format(unserved_demand)\n",
    "    \n",
    "    next_vehicle = I_V.pop()\n",
    "    print \"next vehicle is {}\".format(next_vehicle)\n",
    "    vehicle_states[next_vehicle] = init_vehicle_state()\n",
    "    A_V = A_V.union(set([next_vehicle]))\n",
    "    print \"A_V is {}\".format(A_V)\n",
    "    print \"I_V is {}\".format(I_V)\n",
    "\n",
    "    \n",
    "    break\n",
    "    h = h + delta"
   ]
  },
  {
   "cell_type": "code",
   "execution_count": null,
   "metadata": {
    "collapsed": true
   },
   "outputs": [],
   "source": []
  }
 ],
 "metadata": {
  "kernelspec": {
   "display_name": "Python 2",
   "language": "python",
   "name": "python2"
  },
  "language_info": {
   "codemirror_mode": {
    "name": "ipython",
    "version": 2
   },
   "file_extension": ".py",
   "mimetype": "text/x-python",
   "name": "python",
   "nbconvert_exporter": "python",
   "pygments_lexer": "ipython2",
   "version": "2.7.13"
  }
 },
 "nbformat": 4,
 "nbformat_minor": 2
}
